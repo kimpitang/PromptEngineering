{
  "nbformat": 4,
  "nbformat_minor": 0,
  "metadata": {
    "colab": {
      "provenance": [],
      "authorship_tag": "ABX9TyN78yv8dHoEu8qnabEgXpZj",
      "include_colab_link": true
    },
    "kernelspec": {
      "name": "python3",
      "display_name": "Python 3"
    },
    "language_info": {
      "name": "python"
    }
  },
  "cells": [
    {
      "cell_type": "markdown",
      "metadata": {
        "id": "view-in-github",
        "colab_type": "text"
      },
      "source": [
        "<a href=\"https://colab.research.google.com/github/kimpitang/PromptEngineering/blob/main/Chapter7_4.ipynb\" target=\"_parent\"><img src=\"https://colab.research.google.com/assets/colab-badge.svg\" alt=\"Open In Colab\"/></a>"
      ]
    },
    {
      "cell_type": "code",
      "execution_count": null,
      "metadata": {
        "colab": {
          "base_uri": "https://localhost:8080/"
        },
        "id": "gx6Db87f5E2P",
        "outputId": "2198c4a9-50bf-4741-a1f7-c8bd1c43fbca"
      },
      "outputs": [
        {
          "output_type": "stream",
          "name": "stdout",
          "text": [
            "Requirement already satisfied: openai in /usr/local/lib/python3.10/dist-packages (1.57.4)\n",
            "Requirement already satisfied: anyio<5,>=3.5.0 in /usr/local/lib/python3.10/dist-packages (from openai) (3.7.1)\n",
            "Requirement already satisfied: distro<2,>=1.7.0 in /usr/local/lib/python3.10/dist-packages (from openai) (1.9.0)\n",
            "Requirement already satisfied: httpx<1,>=0.23.0 in /usr/local/lib/python3.10/dist-packages (from openai) (0.28.1)\n",
            "Requirement already satisfied: jiter<1,>=0.4.0 in /usr/local/lib/python3.10/dist-packages (from openai) (0.8.2)\n",
            "Requirement already satisfied: pydantic<3,>=1.9.0 in /usr/local/lib/python3.10/dist-packages (from openai) (2.10.3)\n",
            "Requirement already satisfied: sniffio in /usr/local/lib/python3.10/dist-packages (from openai) (1.3.1)\n",
            "Requirement already satisfied: tqdm>4 in /usr/local/lib/python3.10/dist-packages (from openai) (4.67.1)\n",
            "Requirement already satisfied: typing-extensions<5,>=4.11 in /usr/local/lib/python3.10/dist-packages (from openai) (4.12.2)\n",
            "Requirement already satisfied: idna>=2.8 in /usr/local/lib/python3.10/dist-packages (from anyio<5,>=3.5.0->openai) (3.10)\n",
            "Requirement already satisfied: exceptiongroup in /usr/local/lib/python3.10/dist-packages (from anyio<5,>=3.5.0->openai) (1.2.2)\n",
            "Requirement already satisfied: certifi in /usr/local/lib/python3.10/dist-packages (from httpx<1,>=0.23.0->openai) (2024.12.14)\n",
            "Requirement already satisfied: httpcore==1.* in /usr/local/lib/python3.10/dist-packages (from httpx<1,>=0.23.0->openai) (1.0.7)\n",
            "Requirement already satisfied: h11<0.15,>=0.13 in /usr/local/lib/python3.10/dist-packages (from httpcore==1.*->httpx<1,>=0.23.0->openai) (0.14.0)\n",
            "Requirement already satisfied: annotated-types>=0.6.0 in /usr/local/lib/python3.10/dist-packages (from pydantic<3,>=1.9.0->openai) (0.7.0)\n",
            "Requirement already satisfied: pydantic-core==2.27.1 in /usr/local/lib/python3.10/dist-packages (from pydantic<3,>=1.9.0->openai) (2.27.1)\n"
          ]
        }
      ],
      "source": [
        "pip install openai"
      ]
    },
    {
      "cell_type": "code",
      "source": [
        "import openai\n",
        "\n",
        "openai.api_key = \"\" // 개인 API KEY"
      ],
      "metadata": {
        "id": "vNWF9lK89NDy"
      },
      "execution_count": null,
      "outputs": []
    },
    {
      "cell_type": "code",
      "source": [
        "from string import Template\n",
        "\n",
        "system_message = \"\"\"\n",
        "당신은 패스트캠퍼스의 자유게시판 관리자입니다. 게시글의 종류에 따라 댓글을 달거나 글을 삭제합니다.\n",
        "\n",
        "게시글의 종류:\n",
        "- 광고/홍보\n",
        "- 고민 상담\n",
        "- 그 외의 글\n",
        "\n",
        "답변을 달아주는 경우 캐주얼한 말투를 사용하세요.\n",
        "\"\"\"\n",
        "\n",
        "detect_prompt = \"\"\"\n",
        "게시글의 종류에 따라 다음의 키워드로 출력 해 주세요.\n",
        "\n",
        "- 광고/홍보: AD\n",
        "- 고민 상담: COUNSEL\n",
        "- 그 외의 글: ETC\n",
        "\n",
        "출력 포맷:\n",
        "키워드: CODE\n",
        "\"\"\"\n",
        "\n",
        "output_prompt = \"\"\"\n",
        "키워드에 따라 다음의 규칙에 따라 답변 해 주세요.\n",
        "\n",
        "키워드가 \"AD\"인 경우:\n",
        "\"DELETE\" 출력\n",
        "\n",
        "키워드가 \"ETC\"인 경우\n",
        "\"NO_ACTION\\\" 출력\n",
        "\n",
        "키워드가 \"COUNSEL\"인 경우:\n",
        "고민에 대해 공감해주세요. 두 문장 이내로 답변하세요.\n",
        "\n",
        "\"\"\"\n",
        "\n",
        "context_prompt = Template(\"\"\"\n",
        "다음은 사용자가 작성한 게시글입니다.\n",
        "\n",
        "--- 게시글 ---\n",
        "$posting\n",
        "\"\"\")\n"
      ],
      "metadata": {
        "id": "ZO_l_0PE-lfP"
      },
      "execution_count": null,
      "outputs": []
    },
    {
      "cell_type": "code",
      "source": [
        "def gpt(messages, temperature=0, max_tokens=1024):\n",
        "  completion = openai.chat.completions.create(\n",
        "      model = \"gpt-4\",\n",
        "      messages = messages,\n",
        "      temperature = temperature,\n",
        "      max_tokens = max_tokens,\n",
        "  )\n",
        "\n",
        "  return completion.choices[0].message.content"
      ],
      "metadata": {
        "id": "HcvgNX6lBfSk"
      },
      "execution_count": null,
      "outputs": []
    },
    {
      "cell_type": "code",
      "source": [
        "posting = \"\"\"\n",
        "305만원으로 1735원 만들기\n",
        "무료체험 지금 시작하세요.\n",
        "\"\"\"\n",
        "\n",
        "posting2 = \"\"\"\n",
        "프롬프트 엔지니어가 되고 싶은데 어떻게 해야 하나요?\n",
        "\"\"\"\n",
        "\n",
        "base_messages = [\n",
        "    {\n",
        "        \"role\": \"system\",\n",
        "        \"content\": system_message\n",
        "    },\n",
        "    {\n",
        "        \"role\": \"user\",\n",
        "        \"content\": context_prompt.substitute(posting=posting2)\n",
        "    }\n",
        "]"
      ],
      "metadata": {
        "id": "3dYgSm2XB4uz"
      },
      "execution_count": null,
      "outputs": []
    },
    {
      "cell_type": "code",
      "source": [
        "messages = base_messages + [\n",
        "    {\n",
        "        \"role\": \"user\",\n",
        "        \"content\": detect_prompt\n",
        "    }\n",
        "]\n",
        "\n",
        "result = gpt(messages)\n",
        "result"
      ],
      "metadata": {
        "colab": {
          "base_uri": "https://localhost:8080/",
          "height": 35
        },
        "id": "tweh3Vg1DKjM",
        "outputId": "08921401-22ab-4491-d597-5666fbe643e0"
      },
      "execution_count": null,
      "outputs": [
        {
          "output_type": "execute_result",
          "data": {
            "text/plain": [
              "'키워드: COUNSEL'"
            ],
            "application/vnd.google.colaboratory.intrinsic+json": {
              "type": "string"
            }
          },
          "metadata": {},
          "execution_count": 27
        }
      ]
    },
    {
      "cell_type": "code",
      "source": [
        "messages = base_messages + [\n",
        "    {\n",
        "        \"role\": \"user\",\n",
        "        \"content\": result\n",
        "    },\n",
        "    {\n",
        "        \"role\": \"user\",\n",
        "        \"content\": output_prompt\n",
        "    }\n",
        "]\n",
        "\n",
        "result = gpt(messages)\n",
        "result"
      ],
      "metadata": {
        "colab": {
          "base_uri": "https://localhost:8080/",
          "height": 35
        },
        "id": "nRfaqorXENDt",
        "outputId": "f9f7d0fa-4b40-4d3a-9adf-c999bd500f96"
      },
      "execution_count": null,
      "outputs": [
        {
          "output_type": "execute_result",
          "data": {
            "text/plain": [
              "'프롬프트 엔지니어가 되는 꿈, 멋진 목표네요! 기본적인 프로그래밍 지식부터 시작해서 AI와 자연어 처리에 대한 공부를 꾸준히 해보세요.'"
            ],
            "application/vnd.google.colaboratory.intrinsic+json": {
              "type": "string"
            }
          },
          "metadata": {},
          "execution_count": 28
        }
      ]
    }
  ]
}