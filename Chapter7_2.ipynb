{
  "nbformat": 4,
  "nbformat_minor": 0,
  "metadata": {
    "colab": {
      "provenance": [],
      "authorship_tag": "ABX9TyMupodfSRpGPtLjkrV4VVvh",
      "include_colab_link": true
    },
    "kernelspec": {
      "name": "python3",
      "display_name": "Python 3"
    },
    "language_info": {
      "name": "python"
    }
  },
  "cells": [
    {
      "cell_type": "markdown",
      "metadata": {
        "id": "view-in-github",
        "colab_type": "text"
      },
      "source": [
        "<a href=\"https://colab.research.google.com/github/kimpitang/PromptEngineering/blob/main/Chapter7_2.ipynb\" target=\"_parent\"><img src=\"https://colab.research.google.com/assets/colab-badge.svg\" alt=\"Open In Colab\"/></a>"
      ]
    },
    {
      "cell_type": "code",
      "execution_count": null,
      "metadata": {
        "colab": {
          "base_uri": "https://localhost:8080/"
        },
        "id": "dMTLOLWuiTGW",
        "outputId": "327bb9f4-5e60-47dc-d592-e3552767e854"
      },
      "outputs": [
        {
          "output_type": "stream",
          "name": "stdout",
          "text": [
            "Requirement already satisfied: openai in /usr/local/lib/python3.10/dist-packages (1.57.4)\n",
            "Requirement already satisfied: anyio<5,>=3.5.0 in /usr/local/lib/python3.10/dist-packages (from openai) (3.7.1)\n",
            "Requirement already satisfied: distro<2,>=1.7.0 in /usr/local/lib/python3.10/dist-packages (from openai) (1.9.0)\n",
            "Requirement already satisfied: httpx<1,>=0.23.0 in /usr/local/lib/python3.10/dist-packages (from openai) (0.28.1)\n",
            "Requirement already satisfied: jiter<1,>=0.4.0 in /usr/local/lib/python3.10/dist-packages (from openai) (0.8.2)\n",
            "Requirement already satisfied: pydantic<3,>=1.9.0 in /usr/local/lib/python3.10/dist-packages (from openai) (2.10.3)\n",
            "Requirement already satisfied: sniffio in /usr/local/lib/python3.10/dist-packages (from openai) (1.3.1)\n",
            "Requirement already satisfied: tqdm>4 in /usr/local/lib/python3.10/dist-packages (from openai) (4.67.1)\n",
            "Requirement already satisfied: typing-extensions<5,>=4.11 in /usr/local/lib/python3.10/dist-packages (from openai) (4.12.2)\n",
            "Requirement already satisfied: idna>=2.8 in /usr/local/lib/python3.10/dist-packages (from anyio<5,>=3.5.0->openai) (3.10)\n",
            "Requirement already satisfied: exceptiongroup in /usr/local/lib/python3.10/dist-packages (from anyio<5,>=3.5.0->openai) (1.2.2)\n",
            "Requirement already satisfied: certifi in /usr/local/lib/python3.10/dist-packages (from httpx<1,>=0.23.0->openai) (2024.12.14)\n",
            "Requirement already satisfied: httpcore==1.* in /usr/local/lib/python3.10/dist-packages (from httpx<1,>=0.23.0->openai) (1.0.7)\n",
            "Requirement already satisfied: h11<0.15,>=0.13 in /usr/local/lib/python3.10/dist-packages (from httpcore==1.*->httpx<1,>=0.23.0->openai) (0.14.0)\n",
            "Requirement already satisfied: annotated-types>=0.6.0 in /usr/local/lib/python3.10/dist-packages (from pydantic<3,>=1.9.0->openai) (0.7.0)\n",
            "Requirement already satisfied: pydantic-core==2.27.1 in /usr/local/lib/python3.10/dist-packages (from pydantic<3,>=1.9.0->openai) (2.27.1)\n"
          ]
        }
      ],
      "source": [
        "pip install openai"
      ]
    },
    {
      "cell_type": "code",
      "source": [
        "import openai\n",
        "\n",
        "openai.api_key = \"\" // 개인 API KEY 입력"
      ],
      "metadata": {
        "id": "LzeIls2tnjTF"
      },
      "execution_count": null,
      "outputs": []
    },
    {
      "cell_type": "code",
      "source": [
        "def extract_word(lyrics: str, temperature=1, max_tokens=1024):\n",
        "  prompt = f\"\"\"\n",
        "  다음은 노래 가사야.\n",
        "\n",
        "  영어 노래 가사로 영어 단어 공부를 하려고 해. 노래 가사에서 램덤하게 단어 5개를 뽑아줘. 한국어 의미, 유사어를 출력해주고, 새로운 문장을 만들어줘.\n",
        "\n",
        "  출력 포맷은 다음 JSON 포맷으로 작성해줘\n",
        "  ```\n",
        "  [\n",
        "    {{\n",
        "      \"num\": 1,\n",
        "      \"word\": \"\",\n",
        "      \"korean\": \"\",\n",
        "      \"synonym\": \"\",\n",
        "      \"example\": \"\",\n",
        "    }},\n",
        "  ...]\n",
        "  ```\n",
        "\n",
        "  {lyrics}\"\"\"\n",
        "\n",
        "  completion = openai.chat.completions.create(\n",
        "      model=\"gpt-3.5-turbo\",\n",
        "      messages=[\n",
        "          {\n",
        "              \"role\": \"user\",\n",
        "              \"content\": prompt\n",
        "          }\n",
        "      ],\n",
        "      temperature = temperature,\n",
        "      max_tokens = max_tokens\n",
        "   )\n",
        "\n",
        "  return completion.choices[0].message.content"
      ],
      "metadata": {
        "id": "yoE3kYy5oum3"
      },
      "execution_count": null,
      "outputs": []
    },
    {
      "cell_type": "code",
      "source": [
        "result = extract_word(\"\"\"\n",
        "She just wants to be, beautiful\n",
        "She goes, unnoticed she knows, no limits\n",
        "She craves, attention she praises, an image\n",
        "She prays to be, sculpted by the sculptor\n",
        "Oh, she don't see, the light that's shining\n",
        "Deeper than the eyes can find it\n",
        "Maybe we have made her blind\n",
        "So she tries to cover up her pain\n",
        "And cut her woes away\n",
        "'Cause covergirls don't cry\n",
        "After their face is made\n",
        "But there's a hope that's waiting for you in the dark\n",
        "You should know you're beautiful just the way you are\n",
        "And you don't have to change a thing\n",
        "The world could change its heart\n",
        "No scars to your beautiful\n",
        "We're stars and we're beautiful\n",
        "\"\"\")\n",
        "\n",
        "print(result)"
      ],
      "metadata": {
        "colab": {
          "base_uri": "https://localhost:8080/"
        },
        "id": "T6gBfOlBq60u",
        "outputId": "bfa9b058-c548-49ba-9713-162564392a55"
      },
      "execution_count": null,
      "outputs": [
        {
          "output_type": "stream",
          "name": "stdout",
          "text": [
            "\n",
            "[\n",
            "  {\n",
            "    \"num\": 1,\n",
            "    \"word\": \"craves\",\n",
            "    \"korean\": \"갈망하다\",\n",
            "    \"synonym\": \"desire, long for, yearn for\",\n",
            "    \"example\": \"She craves success in her career.\"\n",
            "  },\n",
            "  {\n",
            "    \"num\": 2,\n",
            "    \"word\": \"praises\",\n",
            "    \"korean\": \"칭찬하다\",\n",
            "    \"synonym\": \"commend, laud, extol\",\n",
            "    \"example\": \"He praises her for her hard work.\"\n",
            "  },\n",
            "  {\n",
            "    \"num\": 3,\n",
            "    \"word\": \"sculpted\",\n",
            "    \"korean\": \"조각된\",\n",
            "    \"synonym\": \"carved, chiseled, molded\",\n",
            "    \"example\": \"The statue was sculpted by a famous artist.\"\n",
            "  },\n",
            "  {\n",
            "    \"num\": 4,\n",
            "    \"word\": \"blind\",\n",
            "    \"korean\": \"맹목적인\",\n",
            "    \"synonym\": \"unseeing, sightless, unaware\",\n",
            "    \"example\": \"His love for her made him blind to her flaws.\"\n",
            "  },\n",
            "  {\n",
            "    \"num\": 5,\n",
            "    \"word\": \"woes\",\n",
            "    \"korean\": \"고뇌\",\n",
            "    \"synonym\": \"troubles, sorrows, hardships\",\n",
            "    \"example\": \"Despite his woes, he never lost hope.\"\n",
            "  }\n",
            "]\n"
          ]
        }
      ]
    },
    {
      "cell_type": "code",
      "source": [
        "import json\n",
        "\n",
        "json_obj = json.loads(result)\n",
        "\n",
        "json_obj"
      ],
      "metadata": {
        "colab": {
          "base_uri": "https://localhost:8080/"
        },
        "id": "IXYzcnd4shVW",
        "outputId": "05844873-82bb-487b-d0c1-ea0e8ae41b7f"
      },
      "execution_count": null,
      "outputs": [
        {
          "output_type": "execute_result",
          "data": {
            "text/plain": [
              "[{'num': 1,\n",
              "  'word': 'craves',\n",
              "  'korean': '갈망하다',\n",
              "  'synonym': 'desire, long for, yearn for',\n",
              "  'example': 'She craves success in her career.'},\n",
              " {'num': 2,\n",
              "  'word': 'praises',\n",
              "  'korean': '칭찬하다',\n",
              "  'synonym': 'commend, laud, extol',\n",
              "  'example': 'He praises her for her hard work.'},\n",
              " {'num': 3,\n",
              "  'word': 'sculpted',\n",
              "  'korean': '조각된',\n",
              "  'synonym': 'carved, chiseled, molded',\n",
              "  'example': 'The statue was sculpted by a famous artist.'},\n",
              " {'num': 4,\n",
              "  'word': 'blind',\n",
              "  'korean': '맹목적인',\n",
              "  'synonym': 'unseeing, sightless, unaware',\n",
              "  'example': 'His love for her made him blind to her flaws.'},\n",
              " {'num': 5,\n",
              "  'word': 'woes',\n",
              "  'korean': '고뇌',\n",
              "  'synonym': 'troubles, sorrows, hardships',\n",
              "  'example': 'Despite his woes, he never lost hope.'}]"
            ]
          },
          "metadata": {},
          "execution_count": 14
        }
      ]
    }
  ]
}