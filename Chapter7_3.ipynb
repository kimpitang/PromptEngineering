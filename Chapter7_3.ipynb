{
  "nbformat": 4,
  "nbformat_minor": 0,
  "metadata": {
    "colab": {
      "provenance": [],
      "authorship_tag": "ABX9TyOoJu1Td6UkYNCCSthBHtCZ",
      "include_colab_link": true
    },
    "kernelspec": {
      "name": "python3",
      "display_name": "Python 3"
    },
    "language_info": {
      "name": "python"
    }
  },
  "cells": [
    {
      "cell_type": "markdown",
      "metadata": {
        "id": "view-in-github",
        "colab_type": "text"
      },
      "source": [
        "<a href=\"https://colab.research.google.com/github/kimpitang/PromptEngineering/blob/main/Chapter7_3.ipynb\" target=\"_parent\"><img src=\"https://colab.research.google.com/assets/colab-badge.svg\" alt=\"Open In Colab\"/></a>"
      ]
    },
    {
      "cell_type": "code",
      "execution_count": null,
      "metadata": {
        "colab": {
          "base_uri": "https://localhost:8080/"
        },
        "id": "YVdeTJohtCeE",
        "outputId": "3673f4bd-a830-46cc-f635-2a4a5cf43482"
      },
      "outputs": [
        {
          "output_type": "stream",
          "name": "stdout",
          "text": [
            "Requirement already satisfied: openai in /usr/local/lib/python3.10/dist-packages (1.57.4)\n",
            "Requirement already satisfied: anyio<5,>=3.5.0 in /usr/local/lib/python3.10/dist-packages (from openai) (3.7.1)\n",
            "Requirement already satisfied: distro<2,>=1.7.0 in /usr/local/lib/python3.10/dist-packages (from openai) (1.9.0)\n",
            "Requirement already satisfied: httpx<1,>=0.23.0 in /usr/local/lib/python3.10/dist-packages (from openai) (0.28.1)\n",
            "Requirement already satisfied: jiter<1,>=0.4.0 in /usr/local/lib/python3.10/dist-packages (from openai) (0.8.2)\n",
            "Requirement already satisfied: pydantic<3,>=1.9.0 in /usr/local/lib/python3.10/dist-packages (from openai) (2.10.3)\n",
            "Requirement already satisfied: sniffio in /usr/local/lib/python3.10/dist-packages (from openai) (1.3.1)\n",
            "Requirement already satisfied: tqdm>4 in /usr/local/lib/python3.10/dist-packages (from openai) (4.67.1)\n",
            "Requirement already satisfied: typing-extensions<5,>=4.11 in /usr/local/lib/python3.10/dist-packages (from openai) (4.12.2)\n",
            "Requirement already satisfied: idna>=2.8 in /usr/local/lib/python3.10/dist-packages (from anyio<5,>=3.5.0->openai) (3.10)\n",
            "Requirement already satisfied: exceptiongroup in /usr/local/lib/python3.10/dist-packages (from anyio<5,>=3.5.0->openai) (1.2.2)\n",
            "Requirement already satisfied: certifi in /usr/local/lib/python3.10/dist-packages (from httpx<1,>=0.23.0->openai) (2024.12.14)\n",
            "Requirement already satisfied: httpcore==1.* in /usr/local/lib/python3.10/dist-packages (from httpx<1,>=0.23.0->openai) (1.0.7)\n",
            "Requirement already satisfied: h11<0.15,>=0.13 in /usr/local/lib/python3.10/dist-packages (from httpcore==1.*->httpx<1,>=0.23.0->openai) (0.14.0)\n",
            "Requirement already satisfied: annotated-types>=0.6.0 in /usr/local/lib/python3.10/dist-packages (from pydantic<3,>=1.9.0->openai) (0.7.0)\n",
            "Requirement already satisfied: pydantic-core==2.27.1 in /usr/local/lib/python3.10/dist-packages (from pydantic<3,>=1.9.0->openai) (2.27.1)\n"
          ]
        }
      ],
      "source": [
        "pip install openai"
      ]
    },
    {
      "cell_type": "code",
      "source": [
        "import openai\n",
        "\n",
        "openai.api_key = \"\" // 개인 API KEY"
      ],
      "metadata": {
        "id": "U0HsL49JvHeL"
      },
      "execution_count": null,
      "outputs": []
    },
    {
      "cell_type": "code",
      "source": [
        "from string import Template\n",
        "\n",
        "system_prompt = \"\"\"당신은 면접 전문가입니다.\n",
        "채용 후보자가 원하는 직무에 적합한지 가장 확실하게 판단할 수 있는 질문을 작성해야합니다.\"\"\"\n",
        "\n",
        "prompt = Template(\"\"\"\n",
        "다음은 \"$position\"의 채용 공고입니다.\n",
        "\n",
        "--- JOB POSTING ---\n",
        "주요업무:\n",
        "$main_tasks\n",
        "\n",
        "자격요건:\n",
        "$requirements\n",
        "\n",
        "우대사항:\n",
        "$qualifications\n",
        "--- END OF JOB POSTING ---\n",
        "\n",
        "이 직업에 대한 예상 면접 질문을 적어주세요.\n",
        "\n",
        "\"하드 스킬\"과 \"소프트 스킬 및 리더십\"에 대한 두 개의 섹션을 작성해주세요.\n",
        "\n",
        "각 섹션에 번호가 매겨진 목록으로 5개 항목을 작성해주세요.\"\"\")"
      ],
      "metadata": {
        "id": "ZRtZl5tkvXgR"
      },
      "execution_count": null,
      "outputs": []
    },
    {
      "cell_type": "code",
      "source": [
        "def generate_interview_question(system_prompt=\"\", user_prompt=\"\", temperature=1, max_tokens=1024):\n",
        "  completion = openai.chat.completions.create(\n",
        "      model=\"gpt-3.5-turbo\",\n",
        "      messages=[\n",
        "          {\n",
        "              \"role\": \"system\",\n",
        "              \"content\": system_prompt\n",
        "          },\n",
        "          {\n",
        "              \"role\": \"user\",\n",
        "              \"content\": user_prompt\n",
        "          }\n",
        "      ],\n",
        "      temperature = temperature,\n",
        "      max_tokens = max_tokens\n",
        "  )\n",
        "\n",
        "  return completion.choices[0].message.content"
      ],
      "metadata": {
        "id": "-bXUF9tBwfDB"
      },
      "execution_count": null,
      "outputs": []
    },
    {
      "cell_type": "code",
      "source": [
        "position = \"시니어 데이터 엔지니어\"\n",
        "\n",
        "main_tasks = \"\"\"\n",
        "• GCP, AWS 등 클라우드 기반 데이터베이스 및 플랫폼 운영 및 관리\n",
        "• 준실시간 데이터 처리를 위한 데이터 아키텍처 설계 및 관리\n",
        "• 자체 로그 데이터 수집, 모니터링 및 분석 처리 시스템 구축\n",
        "• 자동화된 대시보드 개발 및 데이터 분석 환경 구현\n",
        "• 비즈니스와 밀접하게 연관된 데이터 플랫폼 구축\n",
        "\"\"\"\n",
        "\n",
        "requirements = \"\"\"\n",
        "• 데이터 엔지니어 및 개발자 경력 5년 이상 시니어\n",
        "• 클라우드 및 오픈소스 기반 데이터 아키텍처 설계 및 개선 경험이 있으신 분\n",
        "• RDB(MySQL), NoSQL(MongoDB), Kafka 등 클라우드 기반 데이터베이스 및 플랫폼 운영 경험이 있으신 분\n",
        "• Python , Java , Scala 중 한가지 언어로 데이터 처리 경험이 있으신 분\n",
        "• 클라우드 환경에서 DataWarehouse 및 DataLake 설계 및 구축 경험이 있으신 분\n",
        "• 비즈니스 담당자와 원활한 커뮤니케이션이 가능하신 분\n",
        "\"\"\"\n",
        "\n",
        "qualifications = \"\"\"\n",
        "• k8s 기반 데이터 파이프라인 구축 및 운영 경험이 있으신 분\n",
        "• Data LakeHouse 개발/운영에 관심 있으신 분\n",
        "• DataOps / MLOps 에 관심이 있으신 분\n",
        "• 대용량 데이터 배치 처리 경험 및 데이터 스트리밍 처리에 관심이 있으신 분\n",
        "• BigQuery, Athena, Trino, Hive 등 대규모 분석 엔진 활용 경험이 있으신 분\n",
        "• Apache Iceberg, Hudi 등을 활용한 테이블 포맷 활용 경험이 있으신 분\n",
        "• Apache Spark, Kafka 등을 활용한 실시간 데이터 동기화 경험이 있으신 분\n",
        "\"\"\"\n",
        "\n",
        "user_prompt = prompt.substitute(\n",
        "    position = position,\n",
        "    main_tasks = main_tasks,\n",
        "    requirements = requirements,\n",
        "    qualifications = qualifications\n",
        ")"
      ],
      "metadata": {
        "id": "-UqWczqByhj-"
      },
      "execution_count": null,
      "outputs": []
    },
    {
      "cell_type": "code",
      "source": [
        "interview_question = generate_interview_question(system_prompt=system_prompt, user_prompt=user_prompt)\n",
        "print(interview_question)"
      ],
      "metadata": {
        "colab": {
          "base_uri": "https://localhost:8080/"
        },
        "id": "e3D_zJu8zxJ3",
        "outputId": "17d2629f-d768-4eba-b7c5-ce1a242d5267"
      },
      "execution_count": null,
      "outputs": [
        {
          "output_type": "stream",
          "name": "stdout",
          "text": [
            "**하드 스킬:**\n",
            "\n",
            "1. 클라우드 기반 데이터베이스 및 플랫폼 운영 경험이 있는가요? 어떤 경험이 있으신가요?\n",
            "2. 데이터 처리를 위한 언어 (Python, Java, Scala) 중 어떠한 경험이 있으신가요? 어떠한 프로젝트에서 활용하셨나요?\n",
            "3. DataWarehouse 및 DataLake 설계 및 구축 경험이 있는가요? 어떤 도구나 기술을 활용했었나요?\n",
            "4. 대용량 데이터 배치 처리 및 데이터 스트리밍 처리 경험이 있으신가요? 이를 통해 어떠한 결과를 도출했나요?\n",
            "5. 대규모 분석 엔진 (BigQuery, Athena, Trino, Hive 등) 활용 경험이 있는가요? 어떤 프로젝트에서 사용하셨나요?\n",
            "\n",
            "**소프트 스킬 및 리더십:**\n",
            "\n",
            "1. 비즈니스 담당자와의 원활한 커뮤니케이션 경험이 있으신가요? 어떻게 커뮤니케이션을 유지했는지 설명해주세요.\n",
            "2. 팀 내에서 리더십을 발휘한 경험이 있으신가요? 어떤 상황에서 어떤 역할을 맡았는지 설명해주세요.\n",
            "3. 새로운 기술이나 도구 습득에 대한 열린 태도가 있으신가요? 이를 통해 성과를 어떻게 이루었나요?\n",
            "4. 문제 해결 및 결정을 내릴 때 어떤 접근 방식을 가지는지 설명해주세요. 예를 들어, 어떠한 어려움에 부딪혔을 때의 대처 방법을 알려주세요.\n",
            "5. 팀원 간 협업과 협력을 강조하는 데 어떻게 기여할 수 있을지에 대해 생각해보신 적이 있나요?생?\n"
          ]
        }
      ]
    }
  ]
}